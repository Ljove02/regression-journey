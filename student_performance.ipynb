{
 "cells": [
  {
   "cell_type": "code",
   "execution_count": 1,
   "id": "vblA",
   "metadata": {},
   "outputs": [],
   "source": [
    "import numpy as np\n",
    "import pandas as pd\n",
    "import matplotlib.pyplot as plt\n",
    "import seaborn as sns\n",
    "import kagglehub\n",
    "import plotly.graph_objects as go"
   ]
  },
  {
   "cell_type": "markdown",
   "id": "Hbol",
   "metadata": {
    "marimo": {
     "config": {
      "hide_code": true
     }
    }
   },
   "source": [
    "# Can We Predict Student Success?"
   ]
  },
  {
   "cell_type": "markdown",
   "id": "MJUe",
   "metadata": {
    "marimo": {
     "config": {
      "hide_code": true
     }
    }
   },
   "source": [
    "## Introduction\n",
    "\n",
    "In this project, we developed a machine learning model to predict the **Performance Index** of students based on various academic and lifestyle factors.\n",
    "Understanding what influences student performance can provide valuable insights for improving study habits, planning educational programs, and supporting students in achieving better outcomes.\n",
    "\n",
    "We used features such as hours studied, previous scores, extracurricular activities, sleep hours, and the number of practiced question papers.\n",
    "A linear regression model with polynomial features was applied to analyze the relationship between these variables and the overall performance index.\n",
    "\n",
    "\n",
    "The model was evaluated using metrics such as Mean Squared Error (MSE) and R² score to measure accuracy and reliability."
   ]
  },
  {
   "cell_type": "code",
   "execution_count": 2,
   "id": "bkHC",
   "metadata": {},
   "outputs": [
    {
     "name": "stdout",
     "output_type": "stream",
     "text": [
      "Path to dataset files: /Users/veljkospasic/.cache/kagglehub/datasets/nikhil7280/student-performance-multiple-linear-regression/versions/1\n"
     ]
    }
   ],
   "source": [
    "# Download latest version\n",
    "path = kagglehub.dataset_download(\"nikhil7280/student-performance-multiple-linear-regression\")\n",
    "print(\"Path to dataset files:\", path)"
   ]
  },
  {
   "cell_type": "code",
   "execution_count": 3,
   "id": "lEQa",
   "metadata": {},
   "outputs": [],
   "source": [
    "df = pd.read_csv('/Users/veljkospasic/.cache/kagglehub/datasets/nikhil7280/student-performance-multiple-linear-regression/versions/1/Student_Performance.csv')"
   ]
  },
  {
   "cell_type": "code",
   "execution_count": 4,
   "id": "PKri",
   "metadata": {},
   "outputs": [
    {
     "data": {
      "text/html": [
       "<div>\n",
       "<style scoped>\n",
       "    .dataframe tbody tr th:only-of-type {\n",
       "        vertical-align: middle;\n",
       "    }\n",
       "\n",
       "    .dataframe tbody tr th {\n",
       "        vertical-align: top;\n",
       "    }\n",
       "\n",
       "    .dataframe thead th {\n",
       "        text-align: right;\n",
       "    }\n",
       "</style>\n",
       "<table border=\"1\" class=\"dataframe\">\n",
       "  <thead>\n",
       "    <tr style=\"text-align: right;\">\n",
       "      <th></th>\n",
       "      <th>Hours Studied</th>\n",
       "      <th>Previous Scores</th>\n",
       "      <th>Extracurricular Activities</th>\n",
       "      <th>Sleep Hours</th>\n",
       "      <th>Sample Question Papers Practiced</th>\n",
       "      <th>Performance Index</th>\n",
       "    </tr>\n",
       "  </thead>\n",
       "  <tbody>\n",
       "    <tr>\n",
       "      <th>0</th>\n",
       "      <td>7</td>\n",
       "      <td>99</td>\n",
       "      <td>Yes</td>\n",
       "      <td>9</td>\n",
       "      <td>1</td>\n",
       "      <td>91.0</td>\n",
       "    </tr>\n",
       "    <tr>\n",
       "      <th>1</th>\n",
       "      <td>4</td>\n",
       "      <td>82</td>\n",
       "      <td>No</td>\n",
       "      <td>4</td>\n",
       "      <td>2</td>\n",
       "      <td>65.0</td>\n",
       "    </tr>\n",
       "    <tr>\n",
       "      <th>2</th>\n",
       "      <td>8</td>\n",
       "      <td>51</td>\n",
       "      <td>Yes</td>\n",
       "      <td>7</td>\n",
       "      <td>2</td>\n",
       "      <td>45.0</td>\n",
       "    </tr>\n",
       "    <tr>\n",
       "      <th>3</th>\n",
       "      <td>5</td>\n",
       "      <td>52</td>\n",
       "      <td>Yes</td>\n",
       "      <td>5</td>\n",
       "      <td>2</td>\n",
       "      <td>36.0</td>\n",
       "    </tr>\n",
       "    <tr>\n",
       "      <th>4</th>\n",
       "      <td>7</td>\n",
       "      <td>75</td>\n",
       "      <td>No</td>\n",
       "      <td>8</td>\n",
       "      <td>5</td>\n",
       "      <td>66.0</td>\n",
       "    </tr>\n",
       "    <tr>\n",
       "      <th>...</th>\n",
       "      <td>...</td>\n",
       "      <td>...</td>\n",
       "      <td>...</td>\n",
       "      <td>...</td>\n",
       "      <td>...</td>\n",
       "      <td>...</td>\n",
       "    </tr>\n",
       "    <tr>\n",
       "      <th>9995</th>\n",
       "      <td>1</td>\n",
       "      <td>49</td>\n",
       "      <td>Yes</td>\n",
       "      <td>4</td>\n",
       "      <td>2</td>\n",
       "      <td>23.0</td>\n",
       "    </tr>\n",
       "    <tr>\n",
       "      <th>9996</th>\n",
       "      <td>7</td>\n",
       "      <td>64</td>\n",
       "      <td>Yes</td>\n",
       "      <td>8</td>\n",
       "      <td>5</td>\n",
       "      <td>58.0</td>\n",
       "    </tr>\n",
       "    <tr>\n",
       "      <th>9997</th>\n",
       "      <td>6</td>\n",
       "      <td>83</td>\n",
       "      <td>Yes</td>\n",
       "      <td>8</td>\n",
       "      <td>5</td>\n",
       "      <td>74.0</td>\n",
       "    </tr>\n",
       "    <tr>\n",
       "      <th>9998</th>\n",
       "      <td>9</td>\n",
       "      <td>97</td>\n",
       "      <td>Yes</td>\n",
       "      <td>7</td>\n",
       "      <td>0</td>\n",
       "      <td>95.0</td>\n",
       "    </tr>\n",
       "    <tr>\n",
       "      <th>9999</th>\n",
       "      <td>7</td>\n",
       "      <td>74</td>\n",
       "      <td>No</td>\n",
       "      <td>8</td>\n",
       "      <td>1</td>\n",
       "      <td>64.0</td>\n",
       "    </tr>\n",
       "  </tbody>\n",
       "</table>\n",
       "<p>10000 rows × 6 columns</p>\n",
       "</div>"
      ],
      "text/plain": [
       "      Hours Studied  Previous Scores Extracurricular Activities  Sleep Hours  \\\n",
       "0                 7               99                        Yes            9   \n",
       "1                 4               82                         No            4   \n",
       "2                 8               51                        Yes            7   \n",
       "3                 5               52                        Yes            5   \n",
       "4                 7               75                         No            8   \n",
       "...             ...              ...                        ...          ...   \n",
       "9995              1               49                        Yes            4   \n",
       "9996              7               64                        Yes            8   \n",
       "9997              6               83                        Yes            8   \n",
       "9998              9               97                        Yes            7   \n",
       "9999              7               74                         No            8   \n",
       "\n",
       "      Sample Question Papers Practiced  Performance Index  \n",
       "0                                    1               91.0  \n",
       "1                                    2               65.0  \n",
       "2                                    2               45.0  \n",
       "3                                    2               36.0  \n",
       "4                                    5               66.0  \n",
       "...                                ...                ...  \n",
       "9995                                 2               23.0  \n",
       "9996                                 5               58.0  \n",
       "9997                                 5               74.0  \n",
       "9998                                 0               95.0  \n",
       "9999                                 1               64.0  \n",
       "\n",
       "[10000 rows x 6 columns]"
      ]
     },
     "execution_count": 4,
     "metadata": {},
     "output_type": "execute_result"
    }
   ],
   "source": [
    "df"
   ]
  },
  {
   "cell_type": "markdown",
   "id": "Xref",
   "metadata": {
    "marimo": {
     "config": {
      "hide_code": true
     }
    }
   },
   "source": [
    "# EDA - Data Exploration"
   ]
  },
  {
   "cell_type": "markdown",
   "id": "SFPL",
   "metadata": {
    "marimo": {
     "config": {
      "hide_code": true
     }
    }
   },
   "source": [
    "Exploring data type's, rows ...."
   ]
  },
  {
   "cell_type": "code",
   "execution_count": 5,
   "id": "BYtC",
   "metadata": {},
   "outputs": [
    {
     "name": "stdout",
     "output_type": "stream",
     "text": [
      "<class 'pandas.core.frame.DataFrame'>\n",
      "RangeIndex: 10000 entries, 0 to 9999\n",
      "Data columns (total 6 columns):\n",
      " #   Column                            Non-Null Count  Dtype  \n",
      "---  ------                            --------------  -----  \n",
      " 0   Hours Studied                     10000 non-null  int64  \n",
      " 1   Previous Scores                   10000 non-null  int64  \n",
      " 2   Extracurricular Activities        10000 non-null  object \n",
      " 3   Sleep Hours                       10000 non-null  int64  \n",
      " 4   Sample Question Papers Practiced  10000 non-null  int64  \n",
      " 5   Performance Index                 10000 non-null  float64\n",
      "dtypes: float64(1), int64(4), object(1)\n",
      "memory usage: 468.9+ KB\n"
     ]
    }
   ],
   "source": [
    "df.info()"
   ]
  },
  {
   "cell_type": "markdown",
   "id": "RGSE",
   "metadata": {
    "marimo": {
     "config": {
      "hide_code": true
     }
    }
   },
   "source": [
    "Looking for missing values in dataset"
   ]
  },
  {
   "cell_type": "code",
   "execution_count": 6,
   "id": "Kclp",
   "metadata": {
    "marimo": {
     "config": {
      "hide_code": true
     }
    }
   },
   "outputs": [
    {
     "data": {
      "text/plain": [
       "Hours Studied                       0\n",
       "Previous Scores                     0\n",
       "Extracurricular Activities          0\n",
       "Sleep Hours                         0\n",
       "Sample Question Papers Practiced    0\n",
       "Performance Index                   0\n",
       "dtype: int64"
      ]
     },
     "execution_count": 6,
     "metadata": {},
     "output_type": "execute_result"
    }
   ],
   "source": [
    "df.isna().sum()"
   ]
  },
  {
   "cell_type": "code",
   "execution_count": 7,
   "id": "emfo",
   "metadata": {},
   "outputs": [
    {
     "data": {
      "text/plain": [
       "np.True_"
      ]
     },
     "execution_count": 7,
     "metadata": {},
     "output_type": "execute_result"
    }
   ],
   "source": [
    "df.duplicated().any()"
   ]
  },
  {
   "cell_type": "markdown",
   "id": "Hstk",
   "metadata": {
    "marimo": {
     "config": {
      "hide_code": true
     }
    }
   },
   "source": [
    "⚠️ Even if it says that there are duplicates, its proven from valid source there are no duplicates in data set!"
   ]
  },
  {
   "cell_type": "code",
   "execution_count": 8,
   "id": "nWHF",
   "metadata": {},
   "outputs": [
    {
     "data": {
      "text/html": [
       "<div>\n",
       "<style scoped>\n",
       "    .dataframe tbody tr th:only-of-type {\n",
       "        vertical-align: middle;\n",
       "    }\n",
       "\n",
       "    .dataframe tbody tr th {\n",
       "        vertical-align: top;\n",
       "    }\n",
       "\n",
       "    .dataframe thead th {\n",
       "        text-align: right;\n",
       "    }\n",
       "</style>\n",
       "<table border=\"1\" class=\"dataframe\">\n",
       "  <thead>\n",
       "    <tr style=\"text-align: right;\">\n",
       "      <th></th>\n",
       "      <th>Hours Studied</th>\n",
       "      <th>Previous Scores</th>\n",
       "      <th>Sleep Hours</th>\n",
       "      <th>Sample Question Papers Practiced</th>\n",
       "      <th>Performance Index</th>\n",
       "    </tr>\n",
       "  </thead>\n",
       "  <tbody>\n",
       "    <tr>\n",
       "      <th>count</th>\n",
       "      <td>10000.000000</td>\n",
       "      <td>10000.000000</td>\n",
       "      <td>10000.000000</td>\n",
       "      <td>10000.000000</td>\n",
       "      <td>10000.000000</td>\n",
       "    </tr>\n",
       "    <tr>\n",
       "      <th>mean</th>\n",
       "      <td>4.992900</td>\n",
       "      <td>69.445700</td>\n",
       "      <td>6.530600</td>\n",
       "      <td>4.583300</td>\n",
       "      <td>55.224800</td>\n",
       "    </tr>\n",
       "    <tr>\n",
       "      <th>std</th>\n",
       "      <td>2.589309</td>\n",
       "      <td>17.343152</td>\n",
       "      <td>1.695863</td>\n",
       "      <td>2.867348</td>\n",
       "      <td>19.212558</td>\n",
       "    </tr>\n",
       "    <tr>\n",
       "      <th>min</th>\n",
       "      <td>1.000000</td>\n",
       "      <td>40.000000</td>\n",
       "      <td>4.000000</td>\n",
       "      <td>0.000000</td>\n",
       "      <td>10.000000</td>\n",
       "    </tr>\n",
       "    <tr>\n",
       "      <th>25%</th>\n",
       "      <td>3.000000</td>\n",
       "      <td>54.000000</td>\n",
       "      <td>5.000000</td>\n",
       "      <td>2.000000</td>\n",
       "      <td>40.000000</td>\n",
       "    </tr>\n",
       "    <tr>\n",
       "      <th>50%</th>\n",
       "      <td>5.000000</td>\n",
       "      <td>69.000000</td>\n",
       "      <td>7.000000</td>\n",
       "      <td>5.000000</td>\n",
       "      <td>55.000000</td>\n",
       "    </tr>\n",
       "    <tr>\n",
       "      <th>75%</th>\n",
       "      <td>7.000000</td>\n",
       "      <td>85.000000</td>\n",
       "      <td>8.000000</td>\n",
       "      <td>7.000000</td>\n",
       "      <td>71.000000</td>\n",
       "    </tr>\n",
       "    <tr>\n",
       "      <th>max</th>\n",
       "      <td>9.000000</td>\n",
       "      <td>99.000000</td>\n",
       "      <td>9.000000</td>\n",
       "      <td>9.000000</td>\n",
       "      <td>100.000000</td>\n",
       "    </tr>\n",
       "  </tbody>\n",
       "</table>\n",
       "</div>"
      ],
      "text/plain": [
       "       Hours Studied  Previous Scores   Sleep Hours  \\\n",
       "count   10000.000000     10000.000000  10000.000000   \n",
       "mean        4.992900        69.445700      6.530600   \n",
       "std         2.589309        17.343152      1.695863   \n",
       "min         1.000000        40.000000      4.000000   \n",
       "25%         3.000000        54.000000      5.000000   \n",
       "50%         5.000000        69.000000      7.000000   \n",
       "75%         7.000000        85.000000      8.000000   \n",
       "max         9.000000        99.000000      9.000000   \n",
       "\n",
       "       Sample Question Papers Practiced  Performance Index  \n",
       "count                      10000.000000       10000.000000  \n",
       "mean                           4.583300          55.224800  \n",
       "std                            2.867348          19.212558  \n",
       "min                            0.000000          10.000000  \n",
       "25%                            2.000000          40.000000  \n",
       "50%                            5.000000          55.000000  \n",
       "75%                            7.000000          71.000000  \n",
       "max                            9.000000         100.000000  "
      ]
     },
     "execution_count": 8,
     "metadata": {},
     "output_type": "execute_result"
    }
   ],
   "source": [
    "df.describe()"
   ]
  },
  {
   "cell_type": "code",
   "execution_count": null,
   "id": "iLit",
   "metadata": {},
   "outputs": [],
   "source": [
    "df"
   ]
  },
  {
   "cell_type": "code",
   "execution_count": 9,
   "id": "ZHCJ",
   "metadata": {},
   "outputs": [],
   "source": [
    "df['Extracurricular Activities'] = df['Extracurricular Activities'].map({'No': 0, 'Yes': 1})"
   ]
  },
  {
   "cell_type": "markdown",
   "id": "ROlb",
   "metadata": {
    "marimo": {
     "config": {
      "hide_code": true
     }
    }
   },
   "source": [
    "For \"Extracurricular Activities\", we converted **Yes** into int(**1**) and **No** into int(**0**)"
   ]
  },
  {
   "cell_type": "code",
   "execution_count": 10,
   "id": "qnkX",
   "metadata": {
    "marimo": {
     "config": {
      "hide_code": true
     }
    }
   },
   "outputs": [
    {
     "data": {
      "text/plain": [
       "<Axes: title={'center': 'Distribution of Students in Extracurricular Activities'}>"
      ]
     },
     "execution_count": 10,
     "metadata": {},
     "output_type": "execute_result"
    },
    {
     "data": {
      "image/png": "[encoded data removed]",
      "text/plain": [
       "<Figure size 640x480 with 1 Axes>"
      ]
     },
     "metadata": {},
     "output_type": "display_data"
    }
   ],
   "source": [
    "EA = df['Extracurricular Activities'].value_counts()\n",
    "\n",
    "\n",
    "plt.pie(EA, labels=EA.index, autopct='%1.1f%%', startangle=90, colors=['skyblue', 'lightcoral', 'lightgreen', 'gold'])\n",
    "plt.title('Distribution of Students in Extracurricular Activities')\n",
    "plt.axis('equal') # Equal aspect ratio ensures that pie is drawn as a circle.\n",
    "plt.gca()"
   ]
  },
  {
   "cell_type": "markdown",
   "id": "TqIu",
   "metadata": {
    "marimo": {
     "config": {
      "hide_code": true
     }
    }
   },
   "source": [
    "We can see that **50.5%** students don't participate in extracurricular activities."
   ]
  },
  {
   "cell_type": "code",
   "execution_count": 11,
   "id": "Vxnm",
   "metadata": {
    "marimo": {
     "config": {
      "hide_code": true
     }
    }
   },
   "outputs": [
    {
     "data": {
      "text/plain": [
       "<Axes: xlabel='Sleep hours', ylabel='Number of students'>"
      ]
     },
     "execution_count": 11,
     "metadata": {},
     "output_type": "execute_result"
    },
    {
     "data": {
      "image/png": "[encoded data removed]",
      "text/plain": [
       "<Figure size 640x480 with 1 Axes>"
      ]
     },
     "metadata": {},
     "output_type": "display_data"
    }
   ],
   "source": [
    "sleep_hours_distribution = df[\"Sleep Hours\"].value_counts().sort_index()\n",
    "bars = plt.bar(sleep_hours_distribution.index, sleep_hours_distribution.values)\n",
    "plt.xlabel('Sleep hours')\n",
    "plt.ylabel('Number of students')\n",
    "plt.grid(axis='y', linestyle='--', alpha=0.7)\n",
    "for bar in bars:\n",
    "    yval = bar.get_height()\n",
    "    plt.text(bar.get_x() + bar.get_width()/2, yval + 0.1, int(yval), ha='center', va='bottom')\n",
    "plt.gca()"
   ]
  },
  {
   "cell_type": "code",
   "execution_count": 12,
   "id": "DnEU",
   "metadata": {},
   "outputs": [
    {
     "data": {
      "text/plain": [
       "np.float64(6.5306)"
      ]
     },
     "execution_count": 12,
     "metadata": {},
     "output_type": "execute_result"
    }
   ],
   "source": [
    "average_sleep_hours = df[\"Sleep Hours\"].mean()\n",
    "average_sleep_hours"
   ]
  },
  {
   "cell_type": "markdown",
   "id": "ulZA",
   "metadata": {
    "marimo": {
     "config": {
      "hide_code": true
     }
    }
   },
   "source": [
    "Here we can see that most students sleep **8 hours**, while avrage sleep of students is **6.53 hours**"
   ]
  },
  {
   "cell_type": "code",
   "execution_count": 13,
   "id": "ecfG",
   "metadata": {
    "marimo": {
     "config": {
      "hide_code": true
     }
    }
   },
   "outputs": [
    {
     "data": {
      "text/plain": [
       "<Axes: title={'center': 'Heatmap of Correlation Matrix'}, xlabel='Features', ylabel='Features'>"
      ]
     },
     "execution_count": 13,
     "metadata": {},
     "output_type": "execute_result"
    },
    {
     "data": {
      "image/png": "[encoded data removed]",
      "text/plain": [
       "<Figure size 1000x800 with 2 Axes>"
      ]
     },
     "metadata": {},
     "output_type": "display_data"
    }
   ],
   "source": [
    "correlation_matrix = df.corr()\n",
    "\n",
    "plt.figure(figsize=(10, 8))\n",
    "ax = sns.heatmap(\n",
    "    correlation_matrix,\n",
    "    annot=True,\n",
    "    cmap=\"RdBu_r\",\n",
    "    fmt=\".2f\",\n",
    "    linewidths=.5,\n",
    "    cbar_kws={'label': 'Correlation'}\n",
    ")\n",
    "plt.title(\"Heatmap of Correlation Matrix\")\n",
    "plt.xlabel(\"Features\")\n",
    "plt.ylabel(\"Features\")\n",
    "ax.set_xticklabels(ax.get_xticklabels(), rotation=45, ha='right')\n",
    "plt.gca()"
   ]
  },
  {
   "cell_type": "markdown",
   "id": "Pvdt",
   "metadata": {
    "marimo": {
     "config": {
      "hide_code": true
     }
    }
   },
   "source": [
    "We can see that there is a bonds between **Performance Index** and other **Features**, for example there is a great bond between **Hours Studied** and **Performance Index** of **0.37**.\n",
    "\n",
    "While strongest and our primary at this point is with **Previous Scores** that goes up to **0.92**"
   ]
  },
  {
   "cell_type": "markdown",
   "id": "ZBYS",
   "metadata": {
    "marimo": {
     "config": {
      "hide_code": true
     }
    }
   },
   "source": [
    "# Time to train Model - Linear Regression"
   ]
  },
  {
   "cell_type": "markdown",
   "id": "aLJB",
   "metadata": {
    "marimo": {
     "config": {
      "hide_code": true
     }
    }
   },
   "source": [
    "We are going to implements next:\n",
    "\n",
    "- Data preprocessing with Polynomial Transformation (degree = 2) - sklearn :(\n",
    "- Linear Regression\n",
    "- MSE as Loss Function\n",
    "- Gradient descent"
   ]
  },
  {
   "cell_type": "markdown",
   "id": "nHfw",
   "metadata": {
    "marimo": {
     "config": {
      "hide_code": true
     }
    }
   },
   "source": [
    "## 1. Chooseing features and Spliting data for model train-ing"
   ]
  },
  {
   "cell_type": "markdown",
   "id": "xXTn",
   "metadata": {
    "marimo": {
     "config": {
      "hide_code": true
     }
    }
   },
   "source": [
    "Based on correlation matrix we saw that nearly every feature have inpact on Performance Index, with the main goal and stronges feature that is **Previous Scores**.\n",
    "\n",
    "Next lets split our data into **train** and **test**, im gonna use sklearn to do that."
   ]
  },
  {
   "cell_type": "code",
   "execution_count": 14,
   "id": "AjVT",
   "metadata": {},
   "outputs": [],
   "source": [
    "from sklearn.model_selection import train_test_split\n",
    "from sklearn.preprocessing import PolynomialFeatures\n",
    "import kockice as k # - moj lib"
   ]
  },
  {
   "cell_type": "markdown",
   "id": "pHFh",
   "metadata": {
    "marimo": {
     "config": {
      "hide_code": true
     }
    }
   },
   "source": [
    "Chooseing featues, the most important one is **Previous Scores** cuz we saw that he have the biggest correlation with **Performance **"
   ]
  },
  {
   "cell_type": "code",
   "execution_count": 15,
   "id": "NCOB",
   "metadata": {},
   "outputs": [],
   "source": [
    "feature_cols = df[[\"Hours Studied\", \"Extracurricular Activities\", \"Sleep Hours\", \"Sample Question Papers Practiced\", \"Previous Scores\"]]\n",
    "target_col = df[[\"Performance Index\"]]"
   ]
  },
  {
   "cell_type": "code",
   "execution_count": 16,
   "id": "aqbW",
   "metadata": {},
   "outputs": [],
   "source": [
    "X = feature_cols.to_numpy()  # (m, n_x)\n",
    "Y = target_col.to_numpy()    # (m, 1)"
   ]
  },
  {
   "cell_type": "markdown",
   "id": "TRpd",
   "metadata": {
    "marimo": {
     "config": {
      "hide_code": true
     }
    }
   },
   "source": [
    "Now spliting data into *train* and *test* !"
   ]
  },
  {
   "cell_type": "code",
   "execution_count": 17,
   "id": "TXez",
   "metadata": {},
   "outputs": [
    {
     "name": "stdout",
     "output_type": "stream",
     "text": [
      "Train: (8000, 5) (8000, 1)\n",
      "Test:  (2000, 5) (2000, 1)\n"
     ]
    }
   ],
   "source": [
    "X_train, X_test, Y_train, Y_test = train_test_split(X, Y, test_size=0.2, random_state=42)\n",
    "\n",
    "print(\"Train:\", X_train.shape, Y_train.shape)\n",
    "print(\"Test: \", X_test.shape,  Y_test.shape)"
   ]
  },
  {
   "cell_type": "markdown",
   "id": "dNNg",
   "metadata": {
    "marimo": {
     "config": {
      "hide_code": true
     }
    }
   },
   "source": [
    "## 2. Standardizeing data and Polynomial Features (Degree 2)"
   ]
  },
  {
   "cell_type": "markdown",
   "id": "yCnT",
   "metadata": {
    "marimo": {
     "config": {
      "hide_code": true
     }
    }
   },
   "source": [
    "In this section we are going to Transponse matrix of Traing and Test, then we are going to standardize data with Standard Scaler.\n",
    "\n",
    "Standard scaler forula is data - mean / standard_deviation"
   ]
  },
  {
   "cell_type": "code",
   "execution_count": 18,
   "id": "wlCL",
   "metadata": {},
   "outputs": [
    {
     "name": "stdout",
     "output_type": "stream",
     "text": [
      "X_train_std: (5, 8000) | X_test_std: (5, 2000)\n"
     ]
    }
   ],
   "source": [
    "X_trainF = X_train.T   # (n_x, m_train)\n",
    "Y_trainF = Y_train.T   # (1, m_train)\n",
    "\n",
    "X_testF  = X_test.T    # (n_x, m_test)\n",
    "Y_testF  = Y_test.T    # (1, m_test)\n",
    "\n",
    "X_train_std, stats = k.standardize_rows(X_trainF)\n",
    "mu, sd = stats\n",
    "X_test_std = (X_testF - mu) / sd\n",
    "\n",
    "print(\"X_train_std:\", X_train_std.shape, \"| X_test_std:\", X_test_std.shape)"
   ]
  },
  {
   "cell_type": "markdown",
   "id": "kqZH",
   "metadata": {
    "marimo": {
     "config": {
      "hide_code": true
     }
    }
   },
   "source": [
    "Here we check if standard scaler did good job"
   ]
  },
  {
   "cell_type": "code",
   "execution_count": 19,
   "id": "wAgl",
   "metadata": {},
   "outputs": [
    {
     "name": "stdout",
     "output_type": "stream",
     "text": [
      "Means per feature (train): [ 2.53214116e-16 -1.04527498e-15  1.81937798e-16 -2.42993126e-16\n",
      " -3.55632190e-16]\n",
      "Stds per feature (train): [1.         0.99999998 0.99999999 1.         1.        ]\n",
      "First 3 samples (train, standardized):\n",
      " [[ 0.00645547 -1.14974744 -1.14974744]\n",
      " [-0.98930715  1.01080839 -0.98930715]\n",
      " [ 0.26988848  0.26988848  0.26988848]\n",
      " [ 0.13404112  0.48356164 -0.91452044]\n",
      " [-1.18384439 -1.2415057   0.66131759]]\n"
     ]
    }
   ],
   "source": [
    "print(\"Means per feature (train):\", X_train_std.mean(axis=1))  # ~0\n",
    "print(\"Stds per feature (train):\", X_train_std.std(axis=1))    # ~1\n",
    "print(\"First 3 samples (train, standardized):\\n\", X_train_std[:, :3])"
   ]
  },
  {
   "cell_type": "markdown",
   "id": "rEll",
   "metadata": {
    "marimo": {
     "config": {
      "hide_code": true
     }
    }
   },
   "source": [
    "We are gonna use PolynomialFeatures from sklearn, because i didn't build that feature it in kocka lib"
   ]
  },
  {
   "cell_type": "code",
   "execution_count": 20,
   "id": "dGlV",
   "metadata": {},
   "outputs": [
    {
     "name": "stdout",
     "output_type": "stream",
     "text": [
      "X_train_poly: (20, 8000) | X_test_poly: (20, 2000)\n"
     ]
    }
   ],
   "source": [
    "# degree=2\n",
    "poly2 = PolynomialFeatures(degree=2, include_bias=False, interaction_only=False)\n",
    "\n",
    "X_train_poly = poly2.fit_transform(X_train_std.T).T   # (n_x', m_train)\n",
    "X_test_poly  = poly2.transform(X_test_std.T).T        # (n_x', m_test)\n",
    "\n",
    "print(\"X_train_poly:\", X_train_poly.shape, \"| X_test_poly:\", X_test_poly.shape)"
   ]
  },
  {
   "cell_type": "markdown",
   "id": "SdmI",
   "metadata": {
    "marimo": {
     "config": {
      "hide_code": true
     }
    }
   },
   "source": [
    "## 3. Model Training"
   ]
  },
  {
   "cell_type": "markdown",
   "id": "lgWD",
   "metadata": {
    "marimo": {
     "config": {
      "hide_code": true
     }
    }
   },
   "source": [
    "For this this case im going to use my kockice lib that have building blocks for models.\n",
    "\n",
    "So syntax is maybe confusing but im gonna explain it in easy way:\n",
    "\n",
    "- **linear_init_params** (initializes parameters (weights and bias), seed represents random for reproducibility)\n",
    "- **forward_linear** (typcal forward pass without activation func)\n",
    "- **mse_loss** (simle MSE here im using \"cost = np.sum(diff 2) / (2 * m)\" insted of \"cost = np.sum(diff 2) / m\" because the factor 1/2 cancels out the 2 that appears when taking the derivative of the squared term during gradient computation. )\n",
    "- **linear_backprop** ( basic backprop for forward pass without activation func)\n",
    "- **gd.update** (basic gradient descent that update all params)"
   ]
  },
  {
   "cell_type": "markdown",
   "id": "jxvo",
   "metadata": {
    "marimo": {
     "config": {
      "hide_code": true
     }
    }
   },
   "source": [
    "And here comes the training of a simple linear regg model"
   ]
  },
  {
   "cell_type": "code",
   "execution_count": 22,
   "id": "mWxS",
   "metadata": {},
   "outputs": [
    {
     "name": "stdout",
     "output_type": "stream",
     "text": [
      "[  20] MSE(train) = 165.192697\n",
      "[  40] MSE(train) = 96.091230\n",
      "[  60] MSE(train) = 64.481793\n",
      "[  80] MSE(train) = 46.638400\n",
      "[ 100] MSE(train) = 34.958862\n",
      "[ 120] MSE(train) = 26.675331\n",
      "[ 140] MSE(train) = 20.581073\n",
      "[ 160] MSE(train) = 16.027843\n",
      "[ 180] MSE(train) = 12.604607\n",
      "[ 200] MSE(train) = 10.024465\n",
      "[ 220] MSE(train) = 8.077825\n",
      "[ 240] MSE(train) = 6.608555\n",
      "[ 260] MSE(train) = 5.499414\n",
      "[ 280] MSE(train) = 4.662078\n",
      "[ 300] MSE(train) = 4.029922\n",
      "[ 320] MSE(train) = 3.552665\n",
      "[ 340] MSE(train) = 3.192348\n",
      "[ 360] MSE(train) = 2.920320\n",
      "[ 380] MSE(train) = 2.714945\n",
      "[ 400] MSE(train) = 2.559892\n",
      "[ 420] MSE(train) = 2.442832\n",
      "[ 440] MSE(train) = 2.354454\n",
      "[ 460] MSE(train) = 2.287731\n",
      "[ 480] MSE(train) = 2.237357\n",
      "[ 500] MSE(train) = 2.199326\n",
      "[ 520] MSE(train) = 2.170614\n",
      "[ 540] MSE(train) = 2.148937\n",
      "[ 560] MSE(train) = 2.132571\n",
      "[ 580] MSE(train) = 2.120215\n",
      "[ 600] MSE(train) = 2.110887\n",
      "[ 620] MSE(train) = 2.103845\n",
      "[ 640] MSE(train) = 2.098528\n",
      "[ 660] MSE(train) = 2.094513\n",
      "[ 680] MSE(train) = 2.091483\n",
      "[ 700] MSE(train) = 2.089195\n",
      "[ 720] MSE(train) = 2.087467\n",
      "[ 740] MSE(train) = 2.086163\n",
      "[ 760] MSE(train) = 2.085179\n",
      "[ 780] MSE(train) = 2.084435\n",
      "[ 800] MSE(train) = 2.083874\n",
      "Final train MSE: 2.08387424264088\n"
     ]
    }
   ],
   "source": [
    "epochs = 800\n",
    "lr = 0.03\n",
    "use_half = True  #(1/m)\n",
    "\n",
    "params = k.init_params(n_x=X_train_poly.shape[0], n_y=1)\n",
    "history = []\n",
    "\n",
    "for ep in range(epochs):\n",
    "    Y_hat = k.forward_linear(X_train_poly, params)\n",
    "    cost  = k.mse_loss(Y_hat, Y_trainF, use_half=use_half)\n",
    "    grads = k.linear_backprop(X_train_poly, Y_trainF, Y_hat, use_half=use_half)\n",
    "    params = k.gd_update(params, grads, lr=lr)\n",
    "    history.append(cost)\n",
    "    if (ep+1) % 20 == 0:\n",
    "        print(f\"[{ep+1:4d}] MSE(train) = {cost:.6f}\")\n",
    "\n",
    "print(\"Final train MSE:\", history[-1])"
   ]
  },
  {
   "cell_type": "markdown",
   "id": "CcZR",
   "metadata": {
    "marimo": {
     "config": {
      "hide_code": true
     }
    }
   },
   "source": [
    "## Graphs MSE/Epochs and Typcal Linear Reggresion Graph"
   ]
  },
  {
   "cell_type": "markdown",
   "id": "YWSi",
   "metadata": {
    "marimo": {
     "config": {
      "hide_code": true
     }
    }
   },
   "source": [
    "### MSE/Epochs"
   ]
  },
  {
   "cell_type": "code",
   "execution_count": 23,
   "id": "zlud",
   "metadata": {
    "marimo": {
     "config": {
      "hide_code": true
     }
    }
   },
   "outputs": [
    {
     "data": {
      "image/png": "[encoded data removed]",
      "text/plain": [
       "<Figure size 640x480 with 1 Axes>"
      ]
     },
     "metadata": {},
     "output_type": "display_data"
    }
   ],
   "source": [
    "plt.plot(history)\n",
    "plt.xlabel(\"Epoch\")\n",
    "plt.ylabel(\"MSE\")\n",
    "plt.title(\"Linear Regression (degree=2) — MSE vs Epoch\")\n",
    "plt.show()"
   ]
  },
  {
   "cell_type": "markdown",
   "id": "tZnO",
   "metadata": {
    "marimo": {
     "config": {
      "hide_code": true
     }
    }
   },
   "source": [
    "### Typcal Linear Reggresion Graph"
   ]
  },
  {
   "cell_type": "markdown",
   "id": "xvXZ",
   "metadata": {
    "marimo": {
     "config": {
      "hide_code": true
     }
    }
   },
   "source": [
    "This is ploty btw so u can use some tools like zoom, pan etc..."
   ]
  },
  {
   "cell_type": "code",
   "execution_count": 25,
   "id": "CLip",
   "metadata": {
    "marimo": {
     "config": {
      "hide_code": true
     }
    }
   },
   "outputs": [
    {
     "data": {
      "image/png": "[encoded data removed]",
      "text/plain": [
       "<Figure size 700x550 with 1 Axes>"
      ]
     },
     "metadata": {},
     "output_type": "display_data"
    }
   ],
   "source": [
    "predict = k.forward_linear(X_test_poly, params)\n",
    "\n",
    "y_true = Y_test.flatten()\n",
    "y_pred = predict.flatten()\n",
    "\n",
    "plt.figure(figsize=(7, 5.5))  # ~700x550 px\n",
    "\n",
    "# scatter tačke\n",
    "plt.scatter(y_true, y_pred, s=40, color=\"blue\", alpha=0.7, label=\"Predictions\")\n",
    "\n",
    "# idealna linija (y = x)\n",
    "plt.plot([y_true.min(), y_true.max()],\n",
    "         [y_true.min(), y_true.max()],\n",
    "         color=\"red\", linewidth=2, label=\"Ideal\")\n",
    "\n",
    "plt.title(\"Actual vs. Predicted Performance Index (Test Set)\")\n",
    "plt.xlabel(\"Actual Performance Index\")\n",
    "plt.ylabel(\"Predicted Performance Index\")\n",
    "plt.legend()\n",
    "plt.grid(alpha=0.5)\n",
    "\n",
    "plt.show()"
   ]
  },
  {
   "cell_type": "markdown",
   "id": "YECM",
   "metadata": {
    "marimo": {
     "config": {
      "hide_code": true
     }
    }
   },
   "source": [
    "## Model Accuracy"
   ]
  },
  {
   "cell_type": "code",
   "execution_count": 26,
   "id": "cEAS",
   "metadata": {
    "marimo": {
     "config": {
      "hide_code": true
     }
    }
   },
   "outputs": [
    {
     "name": "stdout",
     "output_type": "stream",
     "text": [
      "Train MSE: 4.167700\n",
      "Train R-squared: 0.988695\n",
      "Model Accuarcy is 98.87%\n"
     ]
    }
   ],
   "source": [
    "predict_train = k.forward_linear(X_train_poly, params)\n",
    "\n",
    "train_mse = np.mean(np.square(Y_trainF - predict_train))\n",
    "\n",
    "ss_res = np.sum(np.square(Y_trainF - predict_train))\n",
    "ss_tot = np.sum(np.square(Y_trainF - np.mean(Y_trainF)))\n",
    "r_squared_train = 1 - (ss_res / ss_tot)\n",
    "acc = r_squared_train * 100\n",
    "\n",
    "print(f\"Train MSE: {train_mse:.6f}\")\n",
    "print(f\"Train R-squared: {r_squared_train:.6f}\")\n",
    "print(f\"Model Accuarcy is {acc:.2f}%\")"
   ]
  },
  {
   "cell_type": "markdown",
   "id": "iXej",
   "metadata": {
    "marimo": {
     "config": {
      "hide_code": true
     }
    }
   },
   "source": [
    "Model Stat - **no PolynomialFeatures** = (165 - epoach, a = 0.2) :\n",
    "\n",
    "- Train MSE: 4.171156\n",
    "- Train R-squared: 0.988686\n",
    "- Model Accuarcy is 98.87%\n",
    "\n",
    "\n",
    "Model Stat - **with PolynomialFeatures** = (520 - epoach, a = 0.2) :\n",
    "\n",
    "- Train MSE: 4.179392\n",
    "- Train R-squared: 0.988664\n",
    "- Model Accuarcy is 98.87%"
   ]
  },
  {
   "cell_type": "markdown",
   "id": "EJmg",
   "metadata": {
    "marimo": {
     "config": {
      "hide_code": true
     }
    }
   },
   "source": [
    "## Conclusion\n",
    "\n",
    "The results show that both the linear model and the polynomial model (degree=2) achieved almost identical performance.\n",
    "Without polynomial features, the model reached **MSE = 4.17**, **R² = 0.9887**, and **Accuracy = 98.87%**.\n",
    "With polynomial features, the metrics remained essentially the same (**MSE = 4.18**, **R² = 0.9887**, **Accuracy = 98.87%**).\n",
    "\n",
    "This indicates that the dataset has a predominantly linear structure, and adding polynomial terms did not significantly improve the model’s ability to explain variance or increase prediction accuracy.\n",
    "The linear regression model alone is therefore sufficient to capture the relationship between the features and the performance index."
   ]
  }
 ],
 "metadata": {
  "kernelspec": {
   "display_name": "Python 3 (ipykernel)",
   "language": "python",
   "name": "python3"
  },
  "language_info": {
   "codemirror_mode": {
    "name": "ipython",
    "version": 3
   },
   "file_extension": ".py",
   "mimetype": "text/x-python",
   "name": "python",
   "nbconvert_exporter": "python",
   "pygments_lexer": "ipython3",
   "version": "3.13.6"
  }
 },
 "nbformat": 4,
 "nbformat_minor": 5
}
